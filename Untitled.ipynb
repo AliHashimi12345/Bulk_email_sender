{
 "cells": [
  {
   "cell_type": "code",
   "execution_count": 1,
   "id": "9434ed8e",
   "metadata": {},
   "outputs": [],
   "source": [
    "import numpy as np\n",
    "import pandas as pd\n"
   ]
  },
  {
   "cell_type": "code",
   "execution_count": 2,
   "id": "32fe1247",
   "metadata": {},
   "outputs": [],
   "source": [
    "dict1 = {\n",
    "    \"name\" :['abc'],\n",
    "    \"gmail\":['abco68289@gmail.com'],\n",
    "    \"remarks\":['hello']\n",
    "}"
   ]
  },
  {
   "cell_type": "code",
   "execution_count": 3,
   "id": "4a6012f4",
   "metadata": {},
   "outputs": [],
   "source": [
    "df = pd.DataFrame(dict1)"
   ]
  },
  {
   "cell_type": "code",
   "execution_count": 4,
   "id": "8b729910",
   "metadata": {},
   "outputs": [
    {
     "data": {
      "text/html": [
       "<div>\n",
       "<style scoped>\n",
       "    .dataframe tbody tr th:only-of-type {\n",
       "        vertical-align: middle;\n",
       "    }\n",
       "\n",
       "    .dataframe tbody tr th {\n",
       "        vertical-align: top;\n",
       "    }\n",
       "\n",
       "    .dataframe thead th {\n",
       "        text-align: right;\n",
       "    }\n",
       "</style>\n",
       "<table border=\"1\" class=\"dataframe\">\n",
       "  <thead>\n",
       "    <tr style=\"text-align: right;\">\n",
       "      <th></th>\n",
       "      <th>name</th>\n",
       "      <th>gmail</th>\n",
       "      <th>remarks</th>\n",
       "    </tr>\n",
       "  </thead>\n",
       "  <tbody>\n",
       "    <tr>\n",
       "      <th>0</th>\n",
       "      <td>abc</td>\n",
       "      <td>abco68289@gmail.com</td>\n",
       "      <td>hello</td>\n",
       "    </tr>\n",
       "  </tbody>\n",
       "</table>\n",
       "</div>"
      ],
      "text/plain": [
       "  name                gmail remarks\n",
       "0  abc  abco68289@gmail.com   hello"
      ]
     },
     "execution_count": 4,
     "metadata": {},
     "output_type": "execute_result"
    }
   ],
   "source": [
    "df"
   ]
  },
  {
   "cell_type": "code",
   "execution_count": 5,
   "id": "3c2a6ffb",
   "metadata": {},
   "outputs": [],
   "source": [
    "df.to_csv('gmail2.csv')"
   ]
  },
  {
   "cell_type": "code",
   "execution_count": 6,
   "id": "9e7bd016",
   "metadata": {},
   "outputs": [],
   "source": [
    "import smtplib"
   ]
  },
  {
   "cell_type": "code",
   "execution_count": 7,
   "id": "102ffd37",
   "metadata": {},
   "outputs": [],
   "source": [
    "import numpy as np\n",
    "import pandas as pd"
   ]
  },
  {
   "cell_type": "code",
   "execution_count": 14,
   "id": "cf46a62d",
   "metadata": {},
   "outputs": [],
   "source": [
    "dict1 = {\n",
    "    \"name\":['abc','abc1','abc2','abc3','abc4','abc5','abc6','abc7','abc8','abc9'],\n",
    "    \"gmail\":['rumahashimi14@gmail.com','ali.ongraph@gmail.com','abcx52366@gmail.com','abco68289@gmail.com','sajidhashimi35422@gmail.com','baqarhashimi@gmail.com','hashimilucky@gmail.com','bhaimehndi80@gmail.com','asdfj678@gmail.com','dfcverb234@gmail.com'],\n",
    "    \"remarks\":['hello','hello','hello','hello','hello','hello','hello','hello','hello','hello']\n",
    "     \n",
    "}"
   ]
  },
  {
   "cell_type": "code",
   "execution_count": 15,
   "id": "8c3f9567",
   "metadata": {},
   "outputs": [],
   "source": [
    "df = pd.DataFrame(dict1)"
   ]
  },
  {
   "cell_type": "code",
   "execution_count": 16,
   "id": "863e2cb9",
   "metadata": {},
   "outputs": [
    {
     "data": {
      "text/html": [
       "<div>\n",
       "<style scoped>\n",
       "    .dataframe tbody tr th:only-of-type {\n",
       "        vertical-align: middle;\n",
       "    }\n",
       "\n",
       "    .dataframe tbody tr th {\n",
       "        vertical-align: top;\n",
       "    }\n",
       "\n",
       "    .dataframe thead th {\n",
       "        text-align: right;\n",
       "    }\n",
       "</style>\n",
       "<table border=\"1\" class=\"dataframe\">\n",
       "  <thead>\n",
       "    <tr style=\"text-align: right;\">\n",
       "      <th></th>\n",
       "      <th>name</th>\n",
       "      <th>gmail</th>\n",
       "      <th>remarks</th>\n",
       "    </tr>\n",
       "  </thead>\n",
       "  <tbody>\n",
       "    <tr>\n",
       "      <th>0</th>\n",
       "      <td>abc</td>\n",
       "      <td>rumahashimi14@gmail.com</td>\n",
       "      <td>hello</td>\n",
       "    </tr>\n",
       "    <tr>\n",
       "      <th>1</th>\n",
       "      <td>abc1</td>\n",
       "      <td>ali.ongraph@gmail.com</td>\n",
       "      <td>hello</td>\n",
       "    </tr>\n",
       "    <tr>\n",
       "      <th>2</th>\n",
       "      <td>abc2</td>\n",
       "      <td>abcx52366@gmail.com</td>\n",
       "      <td>hello</td>\n",
       "    </tr>\n",
       "    <tr>\n",
       "      <th>3</th>\n",
       "      <td>abc3</td>\n",
       "      <td>abco68289@gmail.com</td>\n",
       "      <td>hello</td>\n",
       "    </tr>\n",
       "    <tr>\n",
       "      <th>4</th>\n",
       "      <td>abc4</td>\n",
       "      <td>sajidhashimi35422@gmail.com</td>\n",
       "      <td>hello</td>\n",
       "    </tr>\n",
       "    <tr>\n",
       "      <th>5</th>\n",
       "      <td>abc5</td>\n",
       "      <td>baqarhashimi@gmail.com</td>\n",
       "      <td>hello</td>\n",
       "    </tr>\n",
       "    <tr>\n",
       "      <th>6</th>\n",
       "      <td>abc6</td>\n",
       "      <td>hashimilucky@gmail.com</td>\n",
       "      <td>hello</td>\n",
       "    </tr>\n",
       "    <tr>\n",
       "      <th>7</th>\n",
       "      <td>abc7</td>\n",
       "      <td>bhaimehndi80@gmail.com</td>\n",
       "      <td>hello</td>\n",
       "    </tr>\n",
       "    <tr>\n",
       "      <th>8</th>\n",
       "      <td>abc8</td>\n",
       "      <td>asdfj678@gmail.com</td>\n",
       "      <td>hello</td>\n",
       "    </tr>\n",
       "    <tr>\n",
       "      <th>9</th>\n",
       "      <td>abc9</td>\n",
       "      <td>dfcverb234@gmail.com</td>\n",
       "      <td>hello</td>\n",
       "    </tr>\n",
       "  </tbody>\n",
       "</table>\n",
       "</div>"
      ],
      "text/plain": [
       "   name                        gmail remarks\n",
       "0   abc      rumahashimi14@gmail.com   hello\n",
       "1  abc1        ali.ongraph@gmail.com   hello\n",
       "2  abc2          abcx52366@gmail.com   hello\n",
       "3  abc3          abco68289@gmail.com   hello\n",
       "4  abc4  sajidhashimi35422@gmail.com   hello\n",
       "5  abc5       baqarhashimi@gmail.com   hello\n",
       "6  abc6       hashimilucky@gmail.com   hello\n",
       "7  abc7       bhaimehndi80@gmail.com   hello\n",
       "8  abc8           asdfj678@gmail.com   hello\n",
       "9  abc9         dfcverb234@gmail.com   hello"
      ]
     },
     "execution_count": 16,
     "metadata": {},
     "output_type": "execute_result"
    }
   ],
   "source": [
    "df"
   ]
  },
  {
   "cell_type": "code",
   "execution_count": 17,
   "id": "50f38c67",
   "metadata": {},
   "outputs": [],
   "source": [
    "df.to_csv('friends.csv')"
   ]
  },
  {
   "cell_type": "code",
   "execution_count": 18,
   "id": "3718fcf7",
   "metadata": {},
   "outputs": [],
   "source": [
    "import os\n",
    "import getpass\n",
    "import pandas as pd\n",
    "import smtplib\n",
    "from email.message import EmailMessage\n",
    "from getpass import getpass"
   ]
  },
  {
   "cell_type": "code",
   "execution_count": 19,
   "id": "8ee3ff34",
   "metadata": {},
   "outputs": [
    {
     "name": "stdout",
     "output_type": "stream",
     "text": [
      "enter your email idalihashimivns@gmail.com\n",
      "enter your password········\n",
      "All MAIL SENT\n"
     ]
    }
   ],
   "source": [
    "sender_email=input(\"enter your email id\")\n",
    "sender_pass=getpass(\"enter your password\")\n",
    "df=pd.read_csv(r\"C:\\Users\\Lenovo\\Desktop\\pandas1\\friends.csv\")\n",
    "receivers_email =df[\"gmail\"].values\n",
    "sub =(\"test mail\")\n",
    "name =df[\"name\"].values\n",
    "remarks = df[\"remarks\"].values\n",
    "\n",
    "zipped = zip(receivers_email,name,remarks)\n",
    "for(a,b,c) in zipped:\n",
    "    \n",
    "    msg=EmailMessage()\n",
    "    msg['From']=sender_email\n",
    "    msg['To']=a\n",
    "    msg['Subject']=sub\n",
    "    msg.set_content(f\"hello{c}: I Have Something For You\")\n",
    "    \n",
    "    with smtplib.SMTP_SSL('smtp.gmail.com',465) as smtp:\n",
    "        smtp.login(sender_email,sender_pass)\n",
    "        smtp.send_message(msg)\n",
    "        \n",
    "print(\"All MAIL SENT\")"
   ]
  },
  {
   "cell_type": "code",
   "execution_count": null,
   "id": "4ed821bd",
   "metadata": {},
   "outputs": [],
   "source": []
  },
  {
   "cell_type": "code",
   "execution_count": null,
   "id": "38467358",
   "metadata": {},
   "outputs": [],
   "source": []
  }
 ],
 "metadata": {
  "kernelspec": {
   "display_name": "Python 3 (ipykernel)",
   "language": "python",
   "name": "python3"
  },
  "language_info": {
   "codemirror_mode": {
    "name": "ipython",
    "version": 3
   },
   "file_extension": ".py",
   "mimetype": "text/x-python",
   "name": "python",
   "nbconvert_exporter": "python",
   "pygments_lexer": "ipython3",
   "version": "3.10.0"
  }
 },
 "nbformat": 4,
 "nbformat_minor": 5
}
